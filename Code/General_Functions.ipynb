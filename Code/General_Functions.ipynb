{
 "cells": [
  {
   "cell_type": "code",
   "execution_count": null,
   "outputs": [],
   "source": [
    "import pandas as pd"
   ],
   "metadata": {
    "collapsed": false,
    "pycharm": {
     "name": "#%%\n"
    }
   }
  },
  {
   "cell_type": "markdown",
   "source": [
    "#### Notebook with all the general purpose functions"
   ],
   "metadata": {
    "collapsed": false,
    "pycharm": {
     "name": "#%% md\n"
    }
   }
  },
  {
   "cell_type": "markdown",
   "source": [
    "This notebook contains the general purpose functions that will be used throughout the solution. In this context,\n",
    "\"general purpose\" means that these functions dont belong to a particular process such as preprocessing, modeling or\n",
    "prediction; however, they are used as auxiliary functions to accomplish specific tasks within the code while preserving\n",
    "modularity and order.\n",
    "\n",
    "The functions included are:\n",
    "\n",
    "| Function | Description |\n",
    "| -------- | ----------- |\n",
    "| `split_series`  | splits a time series into train and test sets according to the given dates |\n",
    "| `add_holidays`  | adds the holidays to the time series dataset as an additional binary column |"
   ],
   "metadata": {
    "collapsed": false
   }
  },
  {
   "cell_type": "markdown",
   "source": [
    "###### Definition of functions"
   ],
   "metadata": {
    "collapsed": false,
    "pycharm": {
     "name": "#%% md\n"
    }
   }
  },
  {
   "cell_type": "code",
   "execution_count": 3,
   "outputs": [],
   "source": [
    "def split_series(data, start_test, end_test):\n",
    "    \"\"\"\n",
    "    Splits a time series into train and test sets according to the given date boundaries.\n",
    "\n",
    "    Note that all records before the start of the test set are considered to be part of the train set. Furthermore, the\n",
    "    end of the train set and start of the test set are assumed to be contiguous.\n",
    "\n",
    "    Parameters\n",
    "    __________\n",
    "        data (pd.DataFrame): Dataset with the time series to split.\n",
    "        start_test (str): Start of test set (included).\n",
    "        end_test (str): End of test set (included).\n",
    "\n",
    "    Returns\n",
    "    ________\n",
    "        train_df (pd.DataFrame): Train set DataFrame.\n",
    "        test_df (pd.DataFrame): Test set DataFrame.\n",
    "    \"\"\"\n",
    "    # Splitting dataset\n",
    "    train_df = data[data['ds'] < pd.to_datetime(start_test)]\n",
    "    test_df = data[(data['ds'] >= pd.to_datetime(start_test)) & (data['ds'] <= pd.to_datetime(end_test))]\n",
    "\n",
    "    return train_df, test_df"
   ],
   "metadata": {
    "collapsed": false,
    "pycharm": {
     "name": "#%%\n"
    }
   }
  },
  {
   "cell_type": "code",
   "execution_count": null,
   "outputs": [],
   "source": [
    "def add_holidays(df_data, df_holidays):\n",
    "    \"\"\"\n",
    "    Adds the holidays to the time series dataset as an additional binary column, where the value of this column is 1 for\n",
    "    the dates where there is a holiday and 0 otherwise.\n",
    "\n",
    "    Parameters\n",
    "    __________\n",
    "        df_data (pd.DataFrame): Dataset with the time series\n",
    "        df_holidays (pd.DataFrame): Dataset with holidays.\n",
    "\n",
    "    Returns\n",
    "    ________\n",
    "        df_data (pd.DataFrame): Same input \"df_data\" dataset but modified after adding the binary column with the\n",
    "            holidays.\n",
    "    \"\"\"\n",
    "    # Adding holidays column to the dataset\n",
    "    df_data[\"holiday\"] = 0\n",
    "\n",
    "    # Identifying dates with holidays\n",
    "    rows = pd.merge(df_data, df_holidays, on=\"ds\", how=\"left\", indicator=True)[\"_merge\"] == \"both\"\n",
    "\n",
    "    # Replacing holidays with 1\n",
    "    df_data.loc[rows, \"holiday\"] = 1\n",
    "\n",
    "    return df_data"
   ],
   "metadata": {
    "collapsed": false,
    "pycharm": {
     "name": "#%%\n"
    }
   }
  }
 ],
 "metadata": {
  "kernelspec": {
   "display_name": "Python 3",
   "language": "python",
   "name": "python3"
  },
  "language_info": {
   "codemirror_mode": {
    "name": "ipython",
    "version": 2
   },
   "file_extension": ".py",
   "mimetype": "text/x-python",
   "name": "python",
   "nbconvert_exporter": "python",
   "pygments_lexer": "ipython2",
   "version": "2.7.6"
  }
 },
 "nbformat": 4,
 "nbformat_minor": 0
}