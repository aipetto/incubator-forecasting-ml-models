{
 "cells": [
  {
   "cell_type": "markdown",
   "source": [
    "#### Notebook with the functions of the different forecasting models"
   ],
   "metadata": {
    "collapsed": false,
    "pycharm": {
     "name": "#%% md\n"
    }
   }
  },
  {
   "cell_type": "markdown",
   "source": [
    "This notebook contains the functions that allow to define and train forecasting models using the available algorithms,\n",
    "which are:\n",
    "\n",
    "  * SARIMAX\n",
    "  * Prophet\n",
    "  * LightGBM\n",
    "\n",
    "The functions included are:\n",
    "\n",
    "| Function | Description |\n",
    "| -------- | ----------- |\n",
    "| `obtain_sarimax`  | defines and trains a SARIMAX model using the given hyperparameters and input time series |\n",
    "| `obtain_prophet`  | defines and trains a Prophet model using the given hyperparameters, this can be univariate or multivariate |\n",
    "| `obtain_lightgbm`  | TBD |"
   ],
   "metadata": {
    "collapsed": false
   }
  },
  {
   "cell_type": "markdown",
   "source": [
    "###### Definition of functions"
   ],
   "metadata": {
    "collapsed": false,
    "pycharm": {
     "name": "#%% md\n"
    }
   }
  },
  {
   "cell_type": "code",
   "execution_count": null,
   "outputs": [],
   "source": [
    "def obtain_sarimax(df_train, params, holidays=False):\n",
    "    \"\"\"\n",
    "    Defines and trains a SARIMAX model according to the specified parameters and input time series.\n",
    "\n",
    "    If \"holidays\" is set to True then it is assumed that \"df_train\" includes a binary column which indicates the\n",
    "    observations that correspond to holidays, this column will be used as an external regressor.\n",
    "\n",
    "    Parameters\n",
    "    __________\n",
    "        df_train (pd.DataFrame): Dataset with training time series.\n",
    "        params (dict): Dictionary with seasonal and non-seasonal order parameters of the model.\n",
    "        holidays (bool, defaults to False): Flag to indicate whether the dataset contains the holidays regressor or not.\n",
    "\n",
    "    Returns\n",
    "    _______\n",
    "        model (ARIMAResultsWrapper): Object with the SARIMAX model defined by \"params\" and trained with the given time\n",
    "            series.\n",
    "    \"\"\"\n",
    "    # Validating holidays column\n",
    "    if holidays:\n",
    "        exog = df_train[\"holiday\"]\n",
    "    else:\n",
    "        exog = None\n",
    "\n",
    "    # Defining and training SARIMAX model\n",
    "    model = ARIMA(\n",
    "        df_train[\"y\"],\n",
    "        exog=exog,\n",
    "        order=(params[\"p\"], params[\"d\"], params[\"q\"]),\n",
    "        seasonal_order=(params[\"P\"], params[\"D\"], params[\"Q\"], params[\"s\"]),\n",
    "        enforce_invertibility=False,\n",
    "        enforce_stationarity=False\n",
    "    ).fit()\n",
    "\n",
    "    return model"
   ],
   "metadata": {
    "collapsed": false,
    "pycharm": {
     "name": "#%%\n"
    }
   }
  },
  {
   "cell_type": "code",
   "execution_count": null,
   "outputs": [],
   "source": [
    "def obtain_prophet(df_train, params, df_holidays=None):\n",
    "    \"\"\"\n",
    "    Defines and trains a Prophet model according to the specified parameters and input time series.\n",
    "\n",
    "    If \"df_holidays\" is different from \"None\" then it is assumed that this variable contains a DataFrame with the\n",
    "    holidays in the format Prophet expects them to be.\n",
    "\n",
    "    It is necessary to consider that Prophet requires the date column to be labeled as \"ds\" and the series column to be\n",
    "    labeled as \"y\". The same naming convention is required for the DataFrame with the holidays as well, with a column\n",
    "    named \"holiday\" which must contain the name of the holiday.\n",
    "\n",
    "    Parameters\n",
    "    __________\n",
    "        df_train (pd.DataFrame): Dataset with training time series.\n",
    "        params (dict): Dictionary with the hyperparameters of the model.\n",
    "        df_holidays (pd.DataFrame, defaults to None): Dataset with holidays.\n",
    "\n",
    "    Returns\n",
    "    _______\n",
    "        model (prophet.forecaster.Prophet): Object with the Prophet model defined by \"params\" and trained with the given\n",
    "            time series.\n",
    "    \"\"\"\n",
    "    # Defining and training Prophet model\n",
    "    model = Prophet(\n",
    "        changepoint_range=0.9,\n",
    "        daily_seasonality=False,\n",
    "        holidays=df_holidays,\n",
    "        changepoint_prior_scale=params[\"changepoint_prior_scale\"],|\n",
    "        seasonality_prior_scale=params[\"seasonality_prior_scale\"],\n",
    "        holidays_prior_scale=params[\"holidays_prior_scale\"],\n",
    "    ).fit(df_train)\n",
    "\n",
    "    return model\n"
   ],
   "metadata": {
    "collapsed": false,
    "pycharm": {
     "name": "#%%\n"
    }
   }
  }
 ],
 "metadata": {
  "kernelspec": {
   "display_name": "Python 3",
   "language": "python",
   "name": "python3"
  },
  "language_info": {
   "codemirror_mode": {
    "name": "ipython",
    "version": 2
   },
   "file_extension": ".py",
   "mimetype": "text/x-python",
   "name": "python",
   "nbconvert_exporter": "python",
   "pygments_lexer": "ipython2",
   "version": "2.7.6"
  }
 },
 "nbformat": 4,
 "nbformat_minor": 0
}