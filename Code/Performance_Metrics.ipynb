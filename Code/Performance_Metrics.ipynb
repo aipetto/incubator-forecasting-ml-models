{
 "cells": [
  {
   "cell_type": "code",
   "execution_count": null,
   "outputs": [],
   "source": [
    "import numpy as np"
   ],
   "metadata": {
    "collapsed": false,
    "pycharm": {
     "name": "#%%\n"
    }
   }
  },
  {
   "cell_type": "markdown",
   "source": [
    "#### Notebook with functions to calculate performance metrics"
   ],
   "metadata": {
    "collapsed": false,
    "pycharm": {
     "name": "#%% md\n"
    }
   }
  },
  {
   "cell_type": "markdown",
   "source": [
    "This notebook contains the functions to calculate performance metrics of the forecasts, among which are:\n",
    "\n",
    "  * WAPE\n",
    "  * MAPE\n",
    "\n",
    "The functions included are:\n",
    "\n",
    "| Function | Description |\n",
    "| -------- | ----------- |\n",
    "| `wape`  | calculates the WAPE between observed and predicted values |\n",
    "| `mape`  | calculates the MAPE between observed and predicted values |"
   ],
   "metadata": {
    "collapsed": false
   }
  },
  {
   "cell_type": "markdown",
   "source": [
    "###### Definition of functions"
   ],
   "metadata": {
    "collapsed": false,
    "pycharm": {
     "name": "#%% md\n"
    }
   }
  },
  {
   "cell_type": "code",
   "execution_count": 3,
   "outputs": [],
   "source": [
    "def wape(y_true, y_pred):\n",
    "    \"\"\"\n",
    "    Calculates the WAPE between observed and predicted values\n",
    "\n",
    "    Parameters\n",
    "    __________\n",
    "        y_true (np.ndarray): Array like with actuals\n",
    "        y_pred (np.ndarray): Array like with forecasts\n",
    "\n",
    "    Returns\n",
    "    _______\n",
    "        wape (float): Performance error measured with WAPE\n",
    "    \"\"\"\n",
    "    # Calculating WAPE\n",
    "    try:\n",
    "        wape = (sum(abs(y_true - y_pred)) / sum(y_true)) * 100\n",
    "    except:\n",
    "        wape = np.nan\n",
    "\n",
    "    return wape"
   ],
   "metadata": {
    "collapsed": false,
    "pycharm": {
     "name": "#%%\n"
    }
   }
  },
  {
   "cell_type": "code",
   "execution_count": 4,
   "outputs": [],
   "source": [
    "def mape(y_true, y_pred):\n",
    "    \"\"\"\n",
    "    Calculates the MAPE between observed and predicted values\n",
    "\n",
    "    Parameters\n",
    "    __________\n",
    "        y_true (np.ndarray): Array like with actuals.\n",
    "        y_pred (np.ndarray): Array like with forecasts.\n",
    "\n",
    "    Returns\n",
    "    _______\n",
    "        mape (float): Performance error measured with MAPE.\n",
    "    \"\"\"\n",
    "    # Calculating MAPE\n",
    "    try:\n",
    "        mape = np.mean(abs((y_true - y_pred) / y_true)) * 100\n",
    "    except:\n",
    "        mape = np.nan\n",
    "\n",
    "    return mape\n"
   ],
   "metadata": {
    "collapsed": false,
    "pycharm": {
     "name": "#%%\n"
    }
   }
  }
 ],
 "metadata": {
  "kernelspec": {
   "display_name": "Python 3",
   "language": "python",
   "name": "python3"
  },
  "language_info": {
   "codemirror_mode": {
    "name": "ipython",
    "version": 2
   },
   "file_extension": ".py",
   "mimetype": "text/x-python",
   "name": "python",
   "nbconvert_exporter": "python",
   "pygments_lexer": "ipython2",
   "version": "2.7.6"
  }
 },
 "nbformat": 4,
 "nbformat_minor": 0
}