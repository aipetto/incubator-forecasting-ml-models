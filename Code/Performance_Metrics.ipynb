{
 "cells": [
  {
   "cell_type": "markdown",
   "metadata": {
    "application/vnd.databricks.v1+cell": {
     "inputWidgets": {},
     "nuid": "81808f55-5a0a-4219-8d37-c61211e87808",
     "showTitle": false,
     "title": ""
    },
    "pycharm": {
     "name": "#%% md\n"
    }
   },
   "source": [
    "#### Notebook with functions to calculate performance metrics"
   ]
  },
  {
   "cell_type": "markdown",
   "metadata": {
    "application/vnd.databricks.v1+cell": {
     "inputWidgets": {},
     "nuid": "94623de1-0864-4030-9487-ecc6b962f4ba",
     "showTitle": false,
     "title": ""
    }
   },
   "source": [
    "This notebook contains the functions to calculate performance metrics of the forecasts, among which are:\n",
    "\n",
    "  * WAPE\n",
    "  * MAPE\n",
    "\n",
    "The functions included are:\n",
    "\n",
    "| Function | Description |\n",
    "| -------- | ----------- |\n",
    "| `wape`  | calculates the WAPE between observed and predicted values |\n",
    "| `mape`  | calculates the MAPE between observed and predicted values |"
   ]
  },
  {
   "cell_type": "markdown",
   "metadata": {
    "application/vnd.databricks.v1+cell": {
     "inputWidgets": {},
     "nuid": "e12334e8-f2ad-4efc-8fbb-1e065da00b94",
     "showTitle": false,
     "title": ""
    },
    "pycharm": {
     "name": "#%% md\n"
    }
   },
   "source": [
    "###### Definition of functions"
   ]
  },
  {
   "cell_type": "code",
   "execution_count": 0,
   "metadata": {
    "application/vnd.databricks.v1+cell": {
     "inputWidgets": {},
     "nuid": "213f6025-55d6-40dc-8891-eb5beedc1b0f",
     "showTitle": false,
     "title": ""
    },
    "pycharm": {
     "name": "#%%\n"
    }
   },
   "outputs": [],
   "source": [
    "def wape(y_true, y_pred):\n",
    "    \"\"\"\n",
    "    Calculates the WAPE between observed and predicted values\n",
    "\n",
    "    Parameters\n",
    "    __________\n",
    "        y_true (np.ndarray): Array like with actuals\n",
    "        y_pred (np.ndarray): Array like with forecasts\n",
    "\n",
    "    Returns\n",
    "    _______\n",
    "        wape (float): Performance error measured with WAPE\n",
    "    \"\"\"\n",
    "    # Calculating WAPE\n",
    "    try:\n",
    "        wape = (sum(abs(y_true - y_pred)) / sum(y_true)) * 100\n",
    "    except:\n",
    "        wape = np.nan\n",
    "\n",
    "    return wape"
   ]
  },
  {
   "cell_type": "code",
   "execution_count": 0,
   "metadata": {
    "application/vnd.databricks.v1+cell": {
     "inputWidgets": {},
     "nuid": "cf123451-3de3-4830-9c86-41e890a7ac92",
     "showTitle": false,
     "title": ""
    },
    "pycharm": {
     "name": "#%%\n"
    }
   },
   "outputs": [],
   "source": [
    "def mape(y_true, y_pred):\n",
    "    \"\"\"\n",
    "    Calculates the MAPE between observed and predicted values\n",
    "\n",
    "    Parameters\n",
    "    __________\n",
    "        y_true (np.ndarray): Array like with actuals.\n",
    "        y_pred (np.ndarray): Array like with forecasts.\n",
    "\n",
    "    Returns\n",
    "    _______\n",
    "        mape (float): Performance error measured with MAPE.\n",
    "    \"\"\"\n",
    "    # Calculating MAPE\n",
    "    try:\n",
    "        mape = np.mean(abs((y_true - y_pred) / y_true)) * 100\n",
    "    except:\n",
    "        mape = np.nan\n",
    "\n",
    "    return mape\n"
   ]
  }
 ],
 "metadata": {
  "application/vnd.databricks.v1+notebook": {
   "dashboards": [],
   "language": "python",
   "notebookMetadata": {
    "pythonIndentUnit": 4
   },
   "notebookName": "Performance_Metrics",
   "notebookOrigID": 154105517223495,
   "widgets": {}
  },
  "kernelspec": {
   "display_name": "Python 3",
   "language": "python",
   "name": "python3"
  },
  "language_info": {
   "codemirror_mode": {
    "name": "ipython",
    "version": 3
   },
   "file_extension": ".py",
   "mimetype": "text/x-python",
   "name": "python",
   "nbconvert_exporter": "python",
   "pygments_lexer": "ipython3",
   "version": "3.7.3"
  }
 },
 "nbformat": 4,
 "nbformat_minor": 1
}
